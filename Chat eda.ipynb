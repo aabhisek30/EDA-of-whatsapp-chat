{
 "cells": [
  {
   "cell_type": "code",
   "execution_count": 24,
   "metadata": {},
   "outputs": [],
   "source": [
    "import pandas as pd\n",
    "import re"
   ]
  },
  {
   "cell_type": "code",
   "execution_count": 7,
   "metadata": {},
   "outputs": [],
   "source": [
    "whatsapp_data = pd.read_csv(\"cleaned nirma chat.csv\",parse_dates = True,index_col = 0)"
   ]
  },
  {
   "cell_type": "code",
   "execution_count": 8,
   "metadata": {},
   "outputs": [
    {
     "data": {
      "text/html": [
       "<div>\n",
       "<style scoped>\n",
       "    .dataframe tbody tr th:only-of-type {\n",
       "        vertical-align: middle;\n",
       "    }\n",
       "\n",
       "    .dataframe tbody tr th {\n",
       "        vertical-align: top;\n",
       "    }\n",
       "\n",
       "    .dataframe thead th {\n",
       "        text-align: right;\n",
       "    }\n",
       "</style>\n",
       "<table border=\"1\" class=\"dataframe\">\n",
       "  <thead>\n",
       "    <tr style=\"text-align: right;\">\n",
       "      <th></th>\n",
       "      <th>Message</th>\n",
       "      <th>Sender</th>\n",
       "      <th>datetime</th>\n",
       "    </tr>\n",
       "  </thead>\n",
       "  <tbody>\n",
       "    <tr>\n",
       "      <th>0</th>\n",
       "      <td>Add others members too if you have anyone in ...</td>\n",
       "      <td>Abhisek</td>\n",
       "      <td>2020-09-08 11:55:00</td>\n",
       "    </tr>\n",
       "    <tr>\n",
       "      <th>1</th>\n",
       "      <td>Mari pase koi no contact number nthi bhai</td>\n",
       "      <td>Aditya</td>\n",
       "      <td>2020-09-08 11:55:00</td>\n",
       "    </tr>\n",
       "    <tr>\n",
       "      <th>2</th>\n",
       "      <td>Okay</td>\n",
       "      <td>Abhisek</td>\n",
       "      <td>2020-09-08 11:56:00</td>\n",
       "    </tr>\n",
       "    <tr>\n",
       "      <th>3</th>\n",
       "      <td>Let's see if anyone else has ut</td>\n",
       "      <td>Aditya</td>\n",
       "      <td>2020-09-08 11:56:00</td>\n",
       "    </tr>\n",
       "    <tr>\n",
       "      <th>4</th>\n",
       "      <td>It*</td>\n",
       "      <td>Aditya</td>\n",
       "      <td>2020-09-08 11:56:00</td>\n",
       "    </tr>\n",
       "    <tr>\n",
       "      <th>...</th>\n",
       "      <td>...</td>\n",
       "      <td>...</td>\n",
       "      <td>...</td>\n",
       "    </tr>\n",
       "    <tr>\n",
       "      <th>26920</th>\n",
       "      <td>Krushit, Vidit and abhishek are pending for i...</td>\n",
       "      <td>Vatsal Shah</td>\n",
       "      <td>2021-06-10 12:54:00</td>\n",
       "    </tr>\n",
       "    <tr>\n",
       "      <th>26921</th>\n",
       "      <td>yes</td>\n",
       "      <td>Krushit Sheth</td>\n",
       "      <td>2021-06-10 12:54:00</td>\n",
       "    </tr>\n",
       "    <tr>\n",
       "      <th>26922</th>\n",
       "      <td>For *TECHNICOLOR*</td>\n",
       "      <td>Abhi Thakkar</td>\n",
       "      <td>2021-06-11 13:34:00</td>\n",
       "    </tr>\n",
       "    <tr>\n",
       "      <th>26923</th>\n",
       "      <td>Add ur contact numbers too , incase they are ...</td>\n",
       "      <td>Aditya</td>\n",
       "      <td>2021-06-11 13:47:00</td>\n",
       "    </tr>\n",
       "    <tr>\n",
       "      <th>26924</th>\n",
       "      <td>Ok</td>\n",
       "      <td>Vishakha</td>\n",
       "      <td>2021-06-11 13:48:00</td>\n",
       "    </tr>\n",
       "  </tbody>\n",
       "</table>\n",
       "<p>26925 rows × 3 columns</p>\n",
       "</div>"
      ],
      "text/plain": [
       "                                                 Message          Sender  \\\n",
       "0       Add others members too if you have anyone in ...         Abhisek   \n",
       "1              Mari pase koi no contact number nthi bhai          Aditya   \n",
       "2                                                   Okay         Abhisek   \n",
       "3                        Let's see if anyone else has ut          Aditya   \n",
       "4                                                    It*          Aditya   \n",
       "...                                                  ...             ...   \n",
       "26920   Krushit, Vidit and abhishek are pending for i...     Vatsal Shah   \n",
       "26921                                                yes   Krushit Sheth   \n",
       "26922                                 For *TECHNICOLOR*     Abhi Thakkar   \n",
       "26923   Add ur contact numbers too , incase they are ...          Aditya   \n",
       "26924                                                 Ok        Vishakha   \n",
       "\n",
       "                  datetime  \n",
       "0      2020-09-08 11:55:00  \n",
       "1      2020-09-08 11:55:00  \n",
       "2      2020-09-08 11:56:00  \n",
       "3      2020-09-08 11:56:00  \n",
       "4      2020-09-08 11:56:00  \n",
       "...                    ...  \n",
       "26920  2021-06-10 12:54:00  \n",
       "26921  2021-06-10 12:54:00  \n",
       "26922  2021-06-11 13:34:00  \n",
       "26923  2021-06-11 13:47:00  \n",
       "26924  2021-06-11 13:48:00  \n",
       "\n",
       "[26925 rows x 3 columns]"
      ]
     },
     "execution_count": 8,
     "metadata": {},
     "output_type": "execute_result"
    }
   ],
   "source": [
    "whatsapp_data"
   ]
  },
  {
   "cell_type": "markdown",
   "metadata": {},
   "source": [
    "## part 2 EDA"
   ]
  },
  {
   "cell_type": "markdown",
   "metadata": {},
   "source": [
    "1. Number of messages send by each users"
   ]
  },
  {
   "cell_type": "code",
   "execution_count": 10,
   "metadata": {},
   "outputs": [
    {
     "name": "stdout",
     "output_type": "stream",
     "text": [
      "Name\t\tno of message\n",
      " Aditya             3815\n",
      " Vimal              3688\n",
      " Krushit Sheth      3038\n",
      " Vishakha           2901\n",
      " Dhwani             2820\n",
      " Abhisek            2510\n",
      " Shubhangi          2161\n",
      " Jainil Patel       1561\n",
      " Jaynil Patel       1059\n",
      " Rutva               942\n",
      " Dhrumil             743\n",
      " Vidit               463\n",
      " Kalgi               451\n",
      " Abhi Thakkar        227\n",
      " Shailesh            194\n",
      " Riya Shah           176\n",
      " Vatsal Shah         116\n",
      " Parth Sinha          35\n",
      " +91 87580 44627      15\n",
      " +91 74350 45603       7\n",
      " +91 82383 34297       3\n",
      "Name: Sender, dtype: int64\n"
     ]
    }
   ],
   "source": [
    "message_per_user = whatsapp_data[\"Sender\"].value_counts()\n",
    "print(\"Name\\t\\tno of message\")\n",
    "print(message_per_user)"
   ]
  },
  {
   "cell_type": "markdown",
   "metadata": {},
   "source": [
    "Aditya is most active person on group"
   ]
  },
  {
   "cell_type": "markdown",
   "metadata": {},
   "source": [
    "2. Time elasped from first message"
   ]
  },
  {
   "cell_type": "code",
   "execution_count": 11,
   "metadata": {},
   "outputs": [
    {
     "name": "stdout",
     "output_type": "stream",
     "text": [
      "276 days, 7:38:46.222990\n"
     ]
    }
   ],
   "source": [
    "from datetime import datetime\n",
    "now = datetime.now()\n",
    "first_message = datetime.fromisoformat(whatsapp_data.loc[0,\"datetime\"])\n",
    "\n",
    "Time_elasped = now - first_message\n",
    "\n",
    "print(Time_elasped)"
   ]
  },
  {
   "cell_type": "markdown",
   "metadata": {},
   "source": [
    "3. 5 most active days"
   ]
  },
  {
   "cell_type": "code",
   "execution_count": 12,
   "metadata": {},
   "outputs": [
    {
     "data": {
      "text/html": [
       "<div>\n",
       "<style scoped>\n",
       "    .dataframe tbody tr th:only-of-type {\n",
       "        vertical-align: middle;\n",
       "    }\n",
       "\n",
       "    .dataframe tbody tr th {\n",
       "        vertical-align: top;\n",
       "    }\n",
       "\n",
       "    .dataframe thead th {\n",
       "        text-align: right;\n",
       "    }\n",
       "</style>\n",
       "<table border=\"1\" class=\"dataframe\">\n",
       "  <thead>\n",
       "    <tr style=\"text-align: right;\">\n",
       "      <th></th>\n",
       "      <th>Message</th>\n",
       "      <th>Sender</th>\n",
       "      <th>datetime</th>\n",
       "      <th>date</th>\n",
       "    </tr>\n",
       "  </thead>\n",
       "  <tbody>\n",
       "    <tr>\n",
       "      <th>0</th>\n",
       "      <td>Add others members too if you have anyone in ...</td>\n",
       "      <td>Abhisek</td>\n",
       "      <td>2020-09-08 11:55:00</td>\n",
       "      <td>2020-09-08</td>\n",
       "    </tr>\n",
       "    <tr>\n",
       "      <th>1</th>\n",
       "      <td>Mari pase koi no contact number nthi bhai</td>\n",
       "      <td>Aditya</td>\n",
       "      <td>2020-09-08 11:55:00</td>\n",
       "      <td>2020-09-08</td>\n",
       "    </tr>\n",
       "    <tr>\n",
       "      <th>2</th>\n",
       "      <td>Okay</td>\n",
       "      <td>Abhisek</td>\n",
       "      <td>2020-09-08 11:56:00</td>\n",
       "      <td>2020-09-08</td>\n",
       "    </tr>\n",
       "    <tr>\n",
       "      <th>3</th>\n",
       "      <td>Let's see if anyone else has ut</td>\n",
       "      <td>Aditya</td>\n",
       "      <td>2020-09-08 11:56:00</td>\n",
       "      <td>2020-09-08</td>\n",
       "    </tr>\n",
       "    <tr>\n",
       "      <th>4</th>\n",
       "      <td>It*</td>\n",
       "      <td>Aditya</td>\n",
       "      <td>2020-09-08 11:56:00</td>\n",
       "      <td>2020-09-08</td>\n",
       "    </tr>\n",
       "    <tr>\n",
       "      <th>...</th>\n",
       "      <td>...</td>\n",
       "      <td>...</td>\n",
       "      <td>...</td>\n",
       "      <td>...</td>\n",
       "    </tr>\n",
       "    <tr>\n",
       "      <th>26920</th>\n",
       "      <td>Krushit, Vidit and abhishek are pending for i...</td>\n",
       "      <td>Vatsal Shah</td>\n",
       "      <td>2021-06-10 12:54:00</td>\n",
       "      <td>2021-06-10</td>\n",
       "    </tr>\n",
       "    <tr>\n",
       "      <th>26921</th>\n",
       "      <td>yes</td>\n",
       "      <td>Krushit Sheth</td>\n",
       "      <td>2021-06-10 12:54:00</td>\n",
       "      <td>2021-06-10</td>\n",
       "    </tr>\n",
       "    <tr>\n",
       "      <th>26922</th>\n",
       "      <td>For *TECHNICOLOR*</td>\n",
       "      <td>Abhi Thakkar</td>\n",
       "      <td>2021-06-11 13:34:00</td>\n",
       "      <td>2021-06-11</td>\n",
       "    </tr>\n",
       "    <tr>\n",
       "      <th>26923</th>\n",
       "      <td>Add ur contact numbers too , incase they are ...</td>\n",
       "      <td>Aditya</td>\n",
       "      <td>2021-06-11 13:47:00</td>\n",
       "      <td>2021-06-11</td>\n",
       "    </tr>\n",
       "    <tr>\n",
       "      <th>26924</th>\n",
       "      <td>Ok</td>\n",
       "      <td>Vishakha</td>\n",
       "      <td>2021-06-11 13:48:00</td>\n",
       "      <td>2021-06-11</td>\n",
       "    </tr>\n",
       "  </tbody>\n",
       "</table>\n",
       "<p>26925 rows × 4 columns</p>\n",
       "</div>"
      ],
      "text/plain": [
       "                                                 Message          Sender  \\\n",
       "0       Add others members too if you have anyone in ...         Abhisek   \n",
       "1              Mari pase koi no contact number nthi bhai          Aditya   \n",
       "2                                                   Okay         Abhisek   \n",
       "3                        Let's see if anyone else has ut          Aditya   \n",
       "4                                                    It*          Aditya   \n",
       "...                                                  ...             ...   \n",
       "26920   Krushit, Vidit and abhishek are pending for i...     Vatsal Shah   \n",
       "26921                                                yes   Krushit Sheth   \n",
       "26922                                 For *TECHNICOLOR*     Abhi Thakkar   \n",
       "26923   Add ur contact numbers too , incase they are ...          Aditya   \n",
       "26924                                                 Ok        Vishakha   \n",
       "\n",
       "                  datetime        date  \n",
       "0      2020-09-08 11:55:00  2020-09-08  \n",
       "1      2020-09-08 11:55:00  2020-09-08  \n",
       "2      2020-09-08 11:56:00  2020-09-08  \n",
       "3      2020-09-08 11:56:00  2020-09-08  \n",
       "4      2020-09-08 11:56:00  2020-09-08  \n",
       "...                    ...         ...  \n",
       "26920  2021-06-10 12:54:00  2021-06-10  \n",
       "26921  2021-06-10 12:54:00  2021-06-10  \n",
       "26922  2021-06-11 13:34:00  2021-06-11  \n",
       "26923  2021-06-11 13:47:00  2021-06-11  \n",
       "26924  2021-06-11 13:48:00  2021-06-11  \n",
       "\n",
       "[26925 rows x 4 columns]"
      ]
     },
     "execution_count": 12,
     "metadata": {},
     "output_type": "execute_result"
    }
   ],
   "source": [
    "#Adding a date column temporary for opeartion from datetime for operation\n",
    "def date_col(date):\n",
    "    date = datetime.fromisoformat(date)\n",
    "    return date.date()\n",
    "whatsapp_data[\"date\"] = whatsapp_data.apply(lambda row: date_col(row[\"datetime\"]),axis = 1)\n",
    "whatsapp_data"
   ]
  },
  {
   "cell_type": "code",
   "execution_count": 14,
   "metadata": {},
   "outputs": [
    {
     "data": {
      "text/plain": [
       "date\n",
       "2020-12-09    1232\n",
       "2020-12-08     664\n",
       "2021-01-20     663\n",
       "2020-12-16     638\n",
       "2020-12-15     592\n",
       "Name: Message, dtype: int64"
      ]
     },
     "execution_count": 14,
     "metadata": {},
     "output_type": "execute_result"
    }
   ],
   "source": [
    "message_day = whatsapp_data.groupby(\"date\").count()\n",
    "message_day[\"Message\"].sort_values(ascending = False)[:5]"
   ]
  },
  {
   "cell_type": "markdown",
   "metadata": {},
   "source": [
    "4. Least 5 active day"
   ]
  },
  {
   "cell_type": "code",
   "execution_count": 16,
   "metadata": {},
   "outputs": [
    {
     "data": {
      "text/plain": [
       "date\n",
       "2020-09-11    1\n",
       "2021-02-24    1\n",
       "2021-05-31    1\n",
       "2021-02-27    1\n",
       "2021-02-18    2\n",
       "Name: Message, dtype: int64"
      ]
     },
     "execution_count": 16,
     "metadata": {},
     "output_type": "execute_result"
    }
   ],
   "source": [
    "message_day[\"Message\"].sort_values(ascending = True)[:5]"
   ]
  },
  {
   "cell_type": "markdown",
   "metadata": {},
   "source": [
    "this were predeveloped group days"
   ]
  },
  {
   "cell_type": "markdown",
   "metadata": {},
   "source": [
    "5. Most active hour"
   ]
  },
  {
   "cell_type": "code",
   "execution_count": 17,
   "metadata": {},
   "outputs": [
    {
     "data": {
      "text/html": [
       "<div>\n",
       "<style scoped>\n",
       "    .dataframe tbody tr th:only-of-type {\n",
       "        vertical-align: middle;\n",
       "    }\n",
       "\n",
       "    .dataframe tbody tr th {\n",
       "        vertical-align: top;\n",
       "    }\n",
       "\n",
       "    .dataframe thead th {\n",
       "        text-align: right;\n",
       "    }\n",
       "</style>\n",
       "<table border=\"1\" class=\"dataframe\">\n",
       "  <thead>\n",
       "    <tr style=\"text-align: right;\">\n",
       "      <th></th>\n",
       "      <th>Message</th>\n",
       "      <th>Sender</th>\n",
       "      <th>datetime</th>\n",
       "      <th>date</th>\n",
       "      <th>hour</th>\n",
       "    </tr>\n",
       "  </thead>\n",
       "  <tbody>\n",
       "    <tr>\n",
       "      <th>0</th>\n",
       "      <td>Add others members too if you have anyone in ...</td>\n",
       "      <td>Abhisek</td>\n",
       "      <td>2020-09-08 11:55:00</td>\n",
       "      <td>2020-09-08</td>\n",
       "      <td>11</td>\n",
       "    </tr>\n",
       "    <tr>\n",
       "      <th>1</th>\n",
       "      <td>Mari pase koi no contact number nthi bhai</td>\n",
       "      <td>Aditya</td>\n",
       "      <td>2020-09-08 11:55:00</td>\n",
       "      <td>2020-09-08</td>\n",
       "      <td>11</td>\n",
       "    </tr>\n",
       "    <tr>\n",
       "      <th>2</th>\n",
       "      <td>Okay</td>\n",
       "      <td>Abhisek</td>\n",
       "      <td>2020-09-08 11:56:00</td>\n",
       "      <td>2020-09-08</td>\n",
       "      <td>11</td>\n",
       "    </tr>\n",
       "    <tr>\n",
       "      <th>3</th>\n",
       "      <td>Let's see if anyone else has ut</td>\n",
       "      <td>Aditya</td>\n",
       "      <td>2020-09-08 11:56:00</td>\n",
       "      <td>2020-09-08</td>\n",
       "      <td>11</td>\n",
       "    </tr>\n",
       "    <tr>\n",
       "      <th>4</th>\n",
       "      <td>It*</td>\n",
       "      <td>Aditya</td>\n",
       "      <td>2020-09-08 11:56:00</td>\n",
       "      <td>2020-09-08</td>\n",
       "      <td>11</td>\n",
       "    </tr>\n",
       "    <tr>\n",
       "      <th>...</th>\n",
       "      <td>...</td>\n",
       "      <td>...</td>\n",
       "      <td>...</td>\n",
       "      <td>...</td>\n",
       "      <td>...</td>\n",
       "    </tr>\n",
       "    <tr>\n",
       "      <th>26920</th>\n",
       "      <td>Krushit, Vidit and abhishek are pending for i...</td>\n",
       "      <td>Vatsal Shah</td>\n",
       "      <td>2021-06-10 12:54:00</td>\n",
       "      <td>2021-06-10</td>\n",
       "      <td>12</td>\n",
       "    </tr>\n",
       "    <tr>\n",
       "      <th>26921</th>\n",
       "      <td>yes</td>\n",
       "      <td>Krushit Sheth</td>\n",
       "      <td>2021-06-10 12:54:00</td>\n",
       "      <td>2021-06-10</td>\n",
       "      <td>12</td>\n",
       "    </tr>\n",
       "    <tr>\n",
       "      <th>26922</th>\n",
       "      <td>For *TECHNICOLOR*</td>\n",
       "      <td>Abhi Thakkar</td>\n",
       "      <td>2021-06-11 13:34:00</td>\n",
       "      <td>2021-06-11</td>\n",
       "      <td>13</td>\n",
       "    </tr>\n",
       "    <tr>\n",
       "      <th>26923</th>\n",
       "      <td>Add ur contact numbers too , incase they are ...</td>\n",
       "      <td>Aditya</td>\n",
       "      <td>2021-06-11 13:47:00</td>\n",
       "      <td>2021-06-11</td>\n",
       "      <td>13</td>\n",
       "    </tr>\n",
       "    <tr>\n",
       "      <th>26924</th>\n",
       "      <td>Ok</td>\n",
       "      <td>Vishakha</td>\n",
       "      <td>2021-06-11 13:48:00</td>\n",
       "      <td>2021-06-11</td>\n",
       "      <td>13</td>\n",
       "    </tr>\n",
       "  </tbody>\n",
       "</table>\n",
       "<p>26925 rows × 5 columns</p>\n",
       "</div>"
      ],
      "text/plain": [
       "                                                 Message          Sender  \\\n",
       "0       Add others members too if you have anyone in ...         Abhisek   \n",
       "1              Mari pase koi no contact number nthi bhai          Aditya   \n",
       "2                                                   Okay         Abhisek   \n",
       "3                        Let's see if anyone else has ut          Aditya   \n",
       "4                                                    It*          Aditya   \n",
       "...                                                  ...             ...   \n",
       "26920   Krushit, Vidit and abhishek are pending for i...     Vatsal Shah   \n",
       "26921                                                yes   Krushit Sheth   \n",
       "26922                                 For *TECHNICOLOR*     Abhi Thakkar   \n",
       "26923   Add ur contact numbers too , incase they are ...          Aditya   \n",
       "26924                                                 Ok        Vishakha   \n",
       "\n",
       "                  datetime        date  hour  \n",
       "0      2020-09-08 11:55:00  2020-09-08    11  \n",
       "1      2020-09-08 11:55:00  2020-09-08    11  \n",
       "2      2020-09-08 11:56:00  2020-09-08    11  \n",
       "3      2020-09-08 11:56:00  2020-09-08    11  \n",
       "4      2020-09-08 11:56:00  2020-09-08    11  \n",
       "...                    ...         ...   ...  \n",
       "26920  2021-06-10 12:54:00  2021-06-10    12  \n",
       "26921  2021-06-10 12:54:00  2021-06-10    12  \n",
       "26922  2021-06-11 13:34:00  2021-06-11    13  \n",
       "26923  2021-06-11 13:47:00  2021-06-11    13  \n",
       "26924  2021-06-11 13:48:00  2021-06-11    13  \n",
       "\n",
       "[26925 rows x 5 columns]"
      ]
     },
     "execution_count": 17,
     "metadata": {},
     "output_type": "execute_result"
    }
   ],
   "source": [
    "def date_col(date):\n",
    "    date = datetime.fromisoformat(date)\n",
    "    return date.hour\n",
    "whatsapp_data[\"hour\"] = whatsapp_data.apply(lambda row: date_col(row[\"datetime\"]),axis = 1)\n",
    "whatsapp_data"
   ]
  },
  {
   "cell_type": "code",
   "execution_count": 18,
   "metadata": {},
   "outputs": [
    {
     "data": {
      "text/plain": [
       "hour\n",
       "15    4218\n",
       "11    3526\n",
       "14    3140\n",
       "12    2953\n",
       "16    2172\n",
       "Name: Message, dtype: int64"
      ]
     },
     "execution_count": 18,
     "metadata": {},
     "output_type": "execute_result"
    }
   ],
   "source": [
    "message_day = whatsapp_data.groupby(\"hour\").count()\n",
    "message_day[\"Message\"].sort_values(ascending = False)[:5]"
   ]
  },
  {
   "cell_type": "markdown",
   "metadata": {},
   "source": [
    "6. Who deletes most message"
   ]
  },
  {
   "cell_type": "code",
   "execution_count": 21,
   "metadata": {},
   "outputs": [
    {
     "data": {
      "text/plain": [
       "Sender\n",
       " Jaynil Patel     28\n",
       " Aditya           20\n",
       " Krushit Sheth    16\n",
       " Shubhangi        11\n",
       " Jainil Patel     10\n",
       " Vimal             9\n",
       " Dhwani            8\n",
       " Vishakha          7\n",
       " Dhrumil           4\n",
       " Rutva             3\n",
       " Kalgi             1\n",
       " Parth Sinha       1\n",
       " Vatsal Shah       1\n",
       " Vidit             1\n",
       "Name: Message, dtype: int64"
      ]
     },
     "execution_count": 21,
     "metadata": {},
     "output_type": "execute_result"
    }
   ],
   "source": [
    "message_deleted = whatsapp_data[whatsapp_data[\"Message\"]==\" This message was deleted\"].groupby(\"Sender\").count()\n",
    "\n",
    "message_deleted.sort_values(by = \"Message\",ascending=False)[\"Message\"]"
   ]
  },
  {
   "cell_type": "markdown",
   "metadata": {},
   "source": [
    "7. who sends most videos/photo"
   ]
  },
  {
   "cell_type": "code",
   "execution_count": 22,
   "metadata": {},
   "outputs": [
    {
     "data": {
      "text/plain": [
       "Sender\n",
       " Jaynil Patel     140\n",
       " Krushit Sheth    137\n",
       " Jainil Patel     101\n",
       " Vimal            101\n",
       " Aditya            85\n",
       " Abhisek           84\n",
       " Dhrumil           66\n",
       " Shubhangi         61\n",
       " Rutva             54\n",
       " Dhwani            27\n",
       " Vatsal Shah       16\n",
       " Vishakha          16\n",
       " Shailesh          12\n",
       " Vidit              5\n",
       " Kalgi              5\n",
       " Abhi Thakkar       3\n",
       " Riya Shah          1\n",
       "Name: Message, dtype: int64"
      ]
     },
     "execution_count": 22,
     "metadata": {},
     "output_type": "execute_result"
    }
   ],
   "source": [
    "media_message = whatsapp_data[whatsapp_data[\"Message\"]==\" <Media omitted>\"].groupby(\"Sender\").count()\n",
    "media_message.sort_values(by = \"Message\",ascending=False)[\"Message\"]"
   ]
  },
  {
   "cell_type": "markdown",
   "metadata": {},
   "source": [
    "8. who sends most link"
   ]
  },
  {
   "cell_type": "code",
   "execution_count": 25,
   "metadata": {},
   "outputs": [
    {
     "data": {
      "text/plain": [
       "Sender\n",
       " Aditya           70\n",
       " Krushit Sheth    47\n",
       " Jainil Patel     47\n",
       " Jaynil Patel     35\n",
       " Vimal            31\n",
       " Abhisek          30\n",
       " Shubhangi        14\n",
       " Dhrumil           9\n",
       " Vatsal Shah       7\n",
       " Vishakha          7\n",
       " Rutva             6\n",
       " Shailesh          5\n",
       " Vidit             5\n",
       " Abhi Thakkar      2\n",
       " Riya Shah         1\n",
       " Kalgi             1\n",
       " Dhwani            1\n",
       "Name: Message, dtype: int64"
      ]
     },
     "execution_count": 25,
     "metadata": {},
     "output_type": "execute_result"
    }
   ],
   "source": [
    "def link(string):\n",
    "    pattern = re.compile(r\"http\\S+\")\n",
    "    #print(type(string))\n",
    "    if pattern.findall(string):\n",
    "        return True\n",
    "    else:\n",
    "        return False\n",
    "whatsapp_data[\"link\"] = whatsapp_data.apply(lambda row:link(row[\"Message\"]),axis = 1)\n",
    "link_message = whatsapp_data[whatsapp_data[\"link\"]==True].groupby(\"Sender\").count()\n",
    "link_message.sort_values(by = \"Message\",ascending=False)[\"Message\"]"
   ]
  },
  {
   "cell_type": "markdown",
   "metadata": {},
   "source": [
    "9. Average length of message send by each user"
   ]
  },
  {
   "cell_type": "code",
   "execution_count": 26,
   "metadata": {},
   "outputs": [],
   "source": [
    "def length_of_message(string):\n",
    "    #considering 1 word as one 1\n",
    "    word = string.split(\" \")\n",
    "    return len(word)\n",
    "whatsapp_data[\"length_message\"] = whatsapp_data.apply(lambda row:length_of_message(row[\"Message\"]),axis = 1)\n",
    "#whatsapp_data"
   ]
  },
  {
   "cell_type": "code",
   "execution_count": 27,
   "metadata": {},
   "outputs": [
    {
     "data": {
      "text/plain": [
       "Sender\n",
       " +91 74350 45603    10.142857\n",
       " Jainil Patel        9.679693\n",
       " +91 87580 44627     7.800000\n",
       " Krushit Sheth       7.472021\n",
       " Vimal               7.148590\n",
       " Abhi Thakkar        6.832599\n",
       " Vatsal Shah         6.663793\n",
       " Jaynil Patel        6.081209\n",
       " Aditya              6.024902\n",
       " Dhwani              6.005319\n",
       " Abhisek             5.507570\n",
       " Dhrumil             5.489906\n",
       " Shailesh            5.319588\n",
       " Parth Sinha         5.257143\n",
       " Vidit               5.209503\n",
       " Kalgi               4.977827\n",
       " Rutva               4.880042\n",
       " Riya Shah           4.494318\n",
       " Shubhangi           4.484035\n",
       " Vishakha            4.409859\n",
       " +91 82383 34297     3.666667\n",
       "Name: length_message, dtype: float64"
      ]
     },
     "execution_count": 27,
     "metadata": {},
     "output_type": "execute_result"
    }
   ],
   "source": [
    "avg_length_message = whatsapp_data[[\"length_message\",\"Sender\"]].groupby(\"Sender\").mean()\n",
    "avg_length_message.sort_values(by = \"length_message\",ascending=False)[\"length_message\"]"
   ]
  },
  {
   "cell_type": "markdown",
   "metadata": {},
   "source": [
    "10. people who send first message in the morning most often"
   ]
  },
  {
   "cell_type": "code",
   "execution_count": 29,
   "metadata": {},
   "outputs": [
    {
     "name": "stdout",
     "output_type": "stream",
     "text": [
      "{' Aditya': 22, ' Abhisek': 25, ' Krushit Sheth': 55, ' Vimal': 56, ' Jaynil Patel': 14, ' +91 87580 44627': 1, ' Jainil Patel': 14, ' Shailesh': 4, ' Dhrumil': 11, ' Vishakha': 10, ' Riya Shah': 2, ' Vidit': 3, ' Kalgi': 3, ' Shubhangi': 5, ' Dhwani': 9, ' Vatsal Shah': 7, ' Rutva': 1, ' Abhi Thakkar': 1}\n"
     ]
    }
   ],
   "source": [
    "sender_count = {}\n",
    "date_checked = []\n",
    "for i in range(1,len(whatsapp_data)):\n",
    "    date = whatsapp_data.loc[i,\"date\"]\n",
    "    sender = whatsapp_data.loc[i,\"Sender\"]\n",
    "    hour = whatsapp_data.loc[i,\"hour\"]\n",
    "    if date not in date_checked and hour>=6:\n",
    "        date_checked.append(date)\n",
    "        if sender not in sender_count:\n",
    "            sender_count[sender] = 1\n",
    "        else:\n",
    "            sender_count[sender] +=1\n",
    "print(sender_count)"
   ]
  },
  {
   "cell_type": "markdown",
   "metadata": {},
   "source": [
    "converting dictionary to series"
   ]
  },
  {
   "cell_type": "code",
   "execution_count": 30,
   "metadata": {},
   "outputs": [
    {
     "data": {
      "text/plain": [
       " Vimal              56\n",
       " Krushit Sheth      55\n",
       " Abhisek            25\n",
       " Aditya             22\n",
       " Jainil Patel       14\n",
       " Jaynil Patel       14\n",
       " Dhrumil            11\n",
       " Vishakha           10\n",
       " Dhwani              9\n",
       " Vatsal Shah         7\n",
       " Shubhangi           5\n",
       " Shailesh            4\n",
       " Vidit               3\n",
       " Kalgi               3\n",
       " Riya Shah           2\n",
       " Rutva               1\n",
       " +91 87580 44627     1\n",
       " Abhi Thakkar        1\n",
       "dtype: int64"
      ]
     },
     "execution_count": 30,
     "metadata": {},
     "output_type": "execute_result"
    }
   ],
   "source": [
    "sender_count_message = pd.Series(sender_count)\n",
    "sender_count_message.sort_values(ascending = False)"
   ]
  },
  {
   "cell_type": "markdown",
   "metadata": {},
   "source": [
    "Krushit and vimal are our morning person"
   ]
  },
  {
   "cell_type": "markdown",
   "metadata": {},
   "source": [
    "11. Most active hour in history of group"
   ]
  },
  {
   "cell_type": "markdown",
   "metadata": {},
   "source": [
    "combining datetime and hour column for doing this"
   ]
  },
  {
   "cell_type": "code",
   "execution_count": 31,
   "metadata": {},
   "outputs": [
    {
     "data": {
      "text/html": [
       "<div>\n",
       "<style scoped>\n",
       "    .dataframe tbody tr th:only-of-type {\n",
       "        vertical-align: middle;\n",
       "    }\n",
       "\n",
       "    .dataframe tbody tr th {\n",
       "        vertical-align: top;\n",
       "    }\n",
       "\n",
       "    .dataframe thead th {\n",
       "        text-align: right;\n",
       "    }\n",
       "</style>\n",
       "<table border=\"1\" class=\"dataframe\">\n",
       "  <thead>\n",
       "    <tr style=\"text-align: right;\">\n",
       "      <th></th>\n",
       "      <th>Message</th>\n",
       "      <th>Sender</th>\n",
       "      <th>datetime</th>\n",
       "      <th>date</th>\n",
       "      <th>hour</th>\n",
       "      <th>link</th>\n",
       "      <th>length_message</th>\n",
       "      <th>date_time_new</th>\n",
       "    </tr>\n",
       "  </thead>\n",
       "  <tbody>\n",
       "    <tr>\n",
       "      <th>0</th>\n",
       "      <td>Add others members too if you have anyone in ...</td>\n",
       "      <td>Abhisek</td>\n",
       "      <td>2020-09-08 11:55:00</td>\n",
       "      <td>2020-09-08</td>\n",
       "      <td>11</td>\n",
       "      <td>False</td>\n",
       "      <td>11</td>\n",
       "      <td>09/08/2020 11</td>\n",
       "    </tr>\n",
       "    <tr>\n",
       "      <th>1</th>\n",
       "      <td>Mari pase koi no contact number nthi bhai</td>\n",
       "      <td>Aditya</td>\n",
       "      <td>2020-09-08 11:55:00</td>\n",
       "      <td>2020-09-08</td>\n",
       "      <td>11</td>\n",
       "      <td>False</td>\n",
       "      <td>9</td>\n",
       "      <td>09/08/2020 11</td>\n",
       "    </tr>\n",
       "    <tr>\n",
       "      <th>2</th>\n",
       "      <td>Okay</td>\n",
       "      <td>Abhisek</td>\n",
       "      <td>2020-09-08 11:56:00</td>\n",
       "      <td>2020-09-08</td>\n",
       "      <td>11</td>\n",
       "      <td>False</td>\n",
       "      <td>2</td>\n",
       "      <td>09/08/2020 11</td>\n",
       "    </tr>\n",
       "    <tr>\n",
       "      <th>3</th>\n",
       "      <td>Let's see if anyone else has ut</td>\n",
       "      <td>Aditya</td>\n",
       "      <td>2020-09-08 11:56:00</td>\n",
       "      <td>2020-09-08</td>\n",
       "      <td>11</td>\n",
       "      <td>False</td>\n",
       "      <td>8</td>\n",
       "      <td>09/08/2020 11</td>\n",
       "    </tr>\n",
       "    <tr>\n",
       "      <th>4</th>\n",
       "      <td>It*</td>\n",
       "      <td>Aditya</td>\n",
       "      <td>2020-09-08 11:56:00</td>\n",
       "      <td>2020-09-08</td>\n",
       "      <td>11</td>\n",
       "      <td>False</td>\n",
       "      <td>2</td>\n",
       "      <td>09/08/2020 11</td>\n",
       "    </tr>\n",
       "    <tr>\n",
       "      <th>...</th>\n",
       "      <td>...</td>\n",
       "      <td>...</td>\n",
       "      <td>...</td>\n",
       "      <td>...</td>\n",
       "      <td>...</td>\n",
       "      <td>...</td>\n",
       "      <td>...</td>\n",
       "      <td>...</td>\n",
       "    </tr>\n",
       "    <tr>\n",
       "      <th>26920</th>\n",
       "      <td>Krushit, Vidit and abhishek are pending for i...</td>\n",
       "      <td>Vatsal Shah</td>\n",
       "      <td>2021-06-10 12:54:00</td>\n",
       "      <td>2021-06-10</td>\n",
       "      <td>12</td>\n",
       "      <td>False</td>\n",
       "      <td>10</td>\n",
       "      <td>06/10/2021 12</td>\n",
       "    </tr>\n",
       "    <tr>\n",
       "      <th>26921</th>\n",
       "      <td>yes</td>\n",
       "      <td>Krushit Sheth</td>\n",
       "      <td>2021-06-10 12:54:00</td>\n",
       "      <td>2021-06-10</td>\n",
       "      <td>12</td>\n",
       "      <td>False</td>\n",
       "      <td>2</td>\n",
       "      <td>06/10/2021 12</td>\n",
       "    </tr>\n",
       "    <tr>\n",
       "      <th>26922</th>\n",
       "      <td>For *TECHNICOLOR*</td>\n",
       "      <td>Abhi Thakkar</td>\n",
       "      <td>2021-06-11 13:34:00</td>\n",
       "      <td>2021-06-11</td>\n",
       "      <td>13</td>\n",
       "      <td>False</td>\n",
       "      <td>4</td>\n",
       "      <td>06/11/2021 13</td>\n",
       "    </tr>\n",
       "    <tr>\n",
       "      <th>26923</th>\n",
       "      <td>Add ur contact numbers too , incase they are ...</td>\n",
       "      <td>Aditya</td>\n",
       "      <td>2021-06-11 13:47:00</td>\n",
       "      <td>2021-06-11</td>\n",
       "      <td>13</td>\n",
       "      <td>False</td>\n",
       "      <td>13</td>\n",
       "      <td>06/11/2021 13</td>\n",
       "    </tr>\n",
       "    <tr>\n",
       "      <th>26924</th>\n",
       "      <td>Ok</td>\n",
       "      <td>Vishakha</td>\n",
       "      <td>2021-06-11 13:48:00</td>\n",
       "      <td>2021-06-11</td>\n",
       "      <td>13</td>\n",
       "      <td>False</td>\n",
       "      <td>2</td>\n",
       "      <td>06/11/2021 13</td>\n",
       "    </tr>\n",
       "  </tbody>\n",
       "</table>\n",
       "<p>26925 rows × 8 columns</p>\n",
       "</div>"
      ],
      "text/plain": [
       "                                                 Message          Sender  \\\n",
       "0       Add others members too if you have anyone in ...         Abhisek   \n",
       "1              Mari pase koi no contact number nthi bhai          Aditya   \n",
       "2                                                   Okay         Abhisek   \n",
       "3                        Let's see if anyone else has ut          Aditya   \n",
       "4                                                    It*          Aditya   \n",
       "...                                                  ...             ...   \n",
       "26920   Krushit, Vidit and abhishek are pending for i...     Vatsal Shah   \n",
       "26921                                                yes   Krushit Sheth   \n",
       "26922                                 For *TECHNICOLOR*     Abhi Thakkar   \n",
       "26923   Add ur contact numbers too , incase they are ...          Aditya   \n",
       "26924                                                 Ok        Vishakha   \n",
       "\n",
       "                  datetime        date  hour   link  length_message  \\\n",
       "0      2020-09-08 11:55:00  2020-09-08    11  False              11   \n",
       "1      2020-09-08 11:55:00  2020-09-08    11  False               9   \n",
       "2      2020-09-08 11:56:00  2020-09-08    11  False               2   \n",
       "3      2020-09-08 11:56:00  2020-09-08    11  False               8   \n",
       "4      2020-09-08 11:56:00  2020-09-08    11  False               2   \n",
       "...                    ...         ...   ...    ...             ...   \n",
       "26920  2021-06-10 12:54:00  2021-06-10    12  False              10   \n",
       "26921  2021-06-10 12:54:00  2021-06-10    12  False               2   \n",
       "26922  2021-06-11 13:34:00  2021-06-11    13  False               4   \n",
       "26923  2021-06-11 13:47:00  2021-06-11    13  False              13   \n",
       "26924  2021-06-11 13:48:00  2021-06-11    13  False               2   \n",
       "\n",
       "       date_time_new  \n",
       "0      09/08/2020 11  \n",
       "1      09/08/2020 11  \n",
       "2      09/08/2020 11  \n",
       "3      09/08/2020 11  \n",
       "4      09/08/2020 11  \n",
       "...              ...  \n",
       "26920  06/10/2021 12  \n",
       "26921  06/10/2021 12  \n",
       "26922  06/11/2021 13  \n",
       "26923  06/11/2021 13  \n",
       "26924  06/11/2021 13  \n",
       "\n",
       "[26925 rows x 8 columns]"
      ]
     },
     "execution_count": 31,
     "metadata": {},
     "output_type": "execute_result"
    }
   ],
   "source": [
    "# https://www.programiz.com/python-programming/datetime/strftime\n",
    "def date_col_new(date,hour):\n",
    "    return date.strftime(\"%m/%d/%Y\") +\" \" +str(hour)\n",
    "whatsapp_data[\"date_time_new\"] = whatsapp_data.apply(lambda row: date_col_new(row[\"date\"],row[\"hour\"]),axis = 1)\n",
    "whatsapp_data"
   ]
  },
  {
   "cell_type": "code",
   "execution_count": 32,
   "metadata": {},
   "outputs": [
    {
     "data": {
      "text/html": [
       "<div>\n",
       "<style scoped>\n",
       "    .dataframe tbody tr th:only-of-type {\n",
       "        vertical-align: middle;\n",
       "    }\n",
       "\n",
       "    .dataframe tbody tr th {\n",
       "        vertical-align: top;\n",
       "    }\n",
       "\n",
       "    .dataframe thead th {\n",
       "        text-align: right;\n",
       "    }\n",
       "</style>\n",
       "<table border=\"1\" class=\"dataframe\">\n",
       "  <thead>\n",
       "    <tr style=\"text-align: right;\">\n",
       "      <th></th>\n",
       "      <th>Message</th>\n",
       "      <th>Sender</th>\n",
       "      <th>datetime</th>\n",
       "      <th>date</th>\n",
       "      <th>hour</th>\n",
       "      <th>link</th>\n",
       "      <th>length_message</th>\n",
       "      <th>date_time_new</th>\n",
       "    </tr>\n",
       "  </thead>\n",
       "  <tbody>\n",
       "    <tr>\n",
       "      <th>0</th>\n",
       "      <td>Add others members too if you have anyone in ...</td>\n",
       "      <td>Abhisek</td>\n",
       "      <td>2020-09-08 11:55:00</td>\n",
       "      <td>2020-09-08</td>\n",
       "      <td>11</td>\n",
       "      <td>False</td>\n",
       "      <td>11</td>\n",
       "      <td>09/08/2020 11</td>\n",
       "    </tr>\n",
       "    <tr>\n",
       "      <th>1</th>\n",
       "      <td>Mari pase koi no contact number nthi bhai</td>\n",
       "      <td>Aditya</td>\n",
       "      <td>2020-09-08 11:55:00</td>\n",
       "      <td>2020-09-08</td>\n",
       "      <td>11</td>\n",
       "      <td>False</td>\n",
       "      <td>9</td>\n",
       "      <td>09/08/2020 11</td>\n",
       "    </tr>\n",
       "    <tr>\n",
       "      <th>2</th>\n",
       "      <td>Okay</td>\n",
       "      <td>Abhisek</td>\n",
       "      <td>2020-09-08 11:56:00</td>\n",
       "      <td>2020-09-08</td>\n",
       "      <td>11</td>\n",
       "      <td>False</td>\n",
       "      <td>2</td>\n",
       "      <td>09/08/2020 11</td>\n",
       "    </tr>\n",
       "    <tr>\n",
       "      <th>3</th>\n",
       "      <td>Let's see if anyone else has ut</td>\n",
       "      <td>Aditya</td>\n",
       "      <td>2020-09-08 11:56:00</td>\n",
       "      <td>2020-09-08</td>\n",
       "      <td>11</td>\n",
       "      <td>False</td>\n",
       "      <td>8</td>\n",
       "      <td>09/08/2020 11</td>\n",
       "    </tr>\n",
       "    <tr>\n",
       "      <th>4</th>\n",
       "      <td>It*</td>\n",
       "      <td>Aditya</td>\n",
       "      <td>2020-09-08 11:56:00</td>\n",
       "      <td>2020-09-08</td>\n",
       "      <td>11</td>\n",
       "      <td>False</td>\n",
       "      <td>2</td>\n",
       "      <td>09/08/2020 11</td>\n",
       "    </tr>\n",
       "    <tr>\n",
       "      <th>...</th>\n",
       "      <td>...</td>\n",
       "      <td>...</td>\n",
       "      <td>...</td>\n",
       "      <td>...</td>\n",
       "      <td>...</td>\n",
       "      <td>...</td>\n",
       "      <td>...</td>\n",
       "      <td>...</td>\n",
       "    </tr>\n",
       "    <tr>\n",
       "      <th>26920</th>\n",
       "      <td>Krushit, Vidit and abhishek are pending for i...</td>\n",
       "      <td>Vatsal Shah</td>\n",
       "      <td>2021-06-10 12:54:00</td>\n",
       "      <td>2021-06-10</td>\n",
       "      <td>12</td>\n",
       "      <td>False</td>\n",
       "      <td>10</td>\n",
       "      <td>06/10/2021 12</td>\n",
       "    </tr>\n",
       "    <tr>\n",
       "      <th>26921</th>\n",
       "      <td>yes</td>\n",
       "      <td>Krushit Sheth</td>\n",
       "      <td>2021-06-10 12:54:00</td>\n",
       "      <td>2021-06-10</td>\n",
       "      <td>12</td>\n",
       "      <td>False</td>\n",
       "      <td>2</td>\n",
       "      <td>06/10/2021 12</td>\n",
       "    </tr>\n",
       "    <tr>\n",
       "      <th>26922</th>\n",
       "      <td>For *TECHNICOLOR*</td>\n",
       "      <td>Abhi Thakkar</td>\n",
       "      <td>2021-06-11 13:34:00</td>\n",
       "      <td>2021-06-11</td>\n",
       "      <td>13</td>\n",
       "      <td>False</td>\n",
       "      <td>4</td>\n",
       "      <td>06/11/2021 13</td>\n",
       "    </tr>\n",
       "    <tr>\n",
       "      <th>26923</th>\n",
       "      <td>Add ur contact numbers too , incase they are ...</td>\n",
       "      <td>Aditya</td>\n",
       "      <td>2021-06-11 13:47:00</td>\n",
       "      <td>2021-06-11</td>\n",
       "      <td>13</td>\n",
       "      <td>False</td>\n",
       "      <td>13</td>\n",
       "      <td>06/11/2021 13</td>\n",
       "    </tr>\n",
       "    <tr>\n",
       "      <th>26924</th>\n",
       "      <td>Ok</td>\n",
       "      <td>Vishakha</td>\n",
       "      <td>2021-06-11 13:48:00</td>\n",
       "      <td>2021-06-11</td>\n",
       "      <td>13</td>\n",
       "      <td>False</td>\n",
       "      <td>2</td>\n",
       "      <td>06/11/2021 13</td>\n",
       "    </tr>\n",
       "  </tbody>\n",
       "</table>\n",
       "<p>26925 rows × 8 columns</p>\n",
       "</div>"
      ],
      "text/plain": [
       "                                                 Message          Sender  \\\n",
       "0       Add others members too if you have anyone in ...         Abhisek   \n",
       "1              Mari pase koi no contact number nthi bhai          Aditya   \n",
       "2                                                   Okay         Abhisek   \n",
       "3                        Let's see if anyone else has ut          Aditya   \n",
       "4                                                    It*          Aditya   \n",
       "...                                                  ...             ...   \n",
       "26920   Krushit, Vidit and abhishek are pending for i...     Vatsal Shah   \n",
       "26921                                                yes   Krushit Sheth   \n",
       "26922                                 For *TECHNICOLOR*     Abhi Thakkar   \n",
       "26923   Add ur contact numbers too , incase they are ...          Aditya   \n",
       "26924                                                 Ok        Vishakha   \n",
       "\n",
       "                  datetime        date  hour   link  length_message  \\\n",
       "0      2020-09-08 11:55:00  2020-09-08    11  False              11   \n",
       "1      2020-09-08 11:55:00  2020-09-08    11  False               9   \n",
       "2      2020-09-08 11:56:00  2020-09-08    11  False               2   \n",
       "3      2020-09-08 11:56:00  2020-09-08    11  False               8   \n",
       "4      2020-09-08 11:56:00  2020-09-08    11  False               2   \n",
       "...                    ...         ...   ...    ...             ...   \n",
       "26920  2021-06-10 12:54:00  2021-06-10    12  False              10   \n",
       "26921  2021-06-10 12:54:00  2021-06-10    12  False               2   \n",
       "26922  2021-06-11 13:34:00  2021-06-11    13  False               4   \n",
       "26923  2021-06-11 13:47:00  2021-06-11    13  False              13   \n",
       "26924  2021-06-11 13:48:00  2021-06-11    13  False               2   \n",
       "\n",
       "       date_time_new  \n",
       "0      09/08/2020 11  \n",
       "1      09/08/2020 11  \n",
       "2      09/08/2020 11  \n",
       "3      09/08/2020 11  \n",
       "4      09/08/2020 11  \n",
       "...              ...  \n",
       "26920  06/10/2021 12  \n",
       "26921  06/10/2021 12  \n",
       "26922  06/11/2021 13  \n",
       "26923  06/11/2021 13  \n",
       "26924  06/11/2021 13  \n",
       "\n",
       "[26925 rows x 8 columns]"
      ]
     },
     "execution_count": 32,
     "metadata": {},
     "output_type": "execute_result"
    }
   ],
   "source": [
    "whatsapp_data"
   ]
  },
  {
   "cell_type": "code",
   "execution_count": 33,
   "metadata": {},
   "outputs": [
    {
     "data": {
      "text/plain": [
       "date_time_new\n",
       "12/09/2020 15    585\n",
       "12/08/2020 15    477\n",
       "12/15/2020 15    335\n",
       "12/01/2020 15    257\n",
       "12/09/2020 14    251\n",
       "Name: datetime, dtype: int64"
      ]
     },
     "execution_count": 33,
     "metadata": {},
     "output_type": "execute_result"
    }
   ],
   "source": [
    "active_hour = whatsapp_data.groupby(\"date_time_new\").count()\n",
    "active_hour.sort_values(by = \"datetime\",ascending=False)[\"datetime\"][:5]"
   ]
  },
  {
   "cell_type": "markdown",
   "metadata": {},
   "source": [
    "1. Most active hour was the hour of the result of cta ct exam\n",
    "2. just see how bore we are at 3 in noon no matter whose lecture it is"
   ]
  }
 ],
 "metadata": {
  "kernelspec": {
   "display_name": "Python 3",
   "language": "python",
   "name": "python3"
  },
  "language_info": {
   "codemirror_mode": {
    "name": "ipython",
    "version": 3
   },
   "file_extension": ".py",
   "mimetype": "text/x-python",
   "name": "python",
   "nbconvert_exporter": "python",
   "pygments_lexer": "ipython3",
   "version": "3.8.3"
  }
 },
 "nbformat": 4,
 "nbformat_minor": 4
}
